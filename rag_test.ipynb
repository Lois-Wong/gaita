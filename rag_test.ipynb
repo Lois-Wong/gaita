{
 "cells": [
  {
   "cell_type": "markdown",
   "id": "2348cada",
   "metadata": {},
   "source": [
    "## Imports"
   ]
  },
  {
   "cell_type": "code",
   "execution_count": 1,
   "id": "96e9a420",
   "metadata": {},
   "outputs": [],
   "source": [
    "import openai\n",
    "from openai import OpenAI\n",
    "from config import OPENAI_API_KEY\n",
    "from heapq import nlargest\n",
    "import numpy as np\n",
    "\n",
    "client = OpenAI(\n",
    "  api_key= OPENAI_API_KEY\n",
    ")\n",
    "import rag_utils\n",
    "import pandas as pd\n",
    "import requests\n",
    "import json\n",
    "\n",
    "embedding_model_name = \"text-embedding-3-small\"\n",
    "file_name = 'all_courses_with_embeddings.csv'"
   ]
  },
  {
   "cell_type": "markdown",
   "id": "6c3b9a89",
   "metadata": {},
   "source": [
    "## Reading in the Data\n",
    "\n",
    "### (And potentially doing the embedding)"
   ]
  },
  {
   "cell_type": "code",
   "execution_count": 3,
   "id": "622b303a",
   "metadata": {},
   "outputs": [
    {
     "name": "stdout",
     "output_type": "stream",
     "text": [
      "Embeddings already exist in the dataframe\n",
      "But we need to convert them into NP arrays\n",
      "Done\n"
     ]
    }
   ],
   "source": [
    "df = pd.read_csv(file_name)\n",
    "\n",
    "if ('title_and_desc' not in df.columns) and ('embedding' not in df.columns):\n",
    "    choice = input(\"Do you want to run the script to generate embeddings? Caution: this will take a while and burn your OpenAI credits. (yes/no)\")\n",
    "    if choice == 'yes':\n",
    "        df = rag_utils.embed_all_courses(df)\n",
    "else:\n",
    "    print(\"Embeddings already exist in the dataframe\")\n",
    "    print(\"But we need to convert them into NP arrays\")\n",
    "    df['embedding'] = df['embedding'].apply(lambda x: np.array(json.loads(x)))\n",
    "    print(\"Done\")"
   ]
  },
  {
   "cell_type": "code",
   "execution_count": 4,
   "id": "5becfeff",
   "metadata": {},
   "outputs": [
    {
     "data": {
      "text/plain": [
       "numpy.ndarray"
      ]
     },
     "execution_count": 4,
     "metadata": {},
     "output_type": "execute_result"
    }
   ],
   "source": [
    "type(df['embedding'][0])"
   ]
  },
  {
   "cell_type": "markdown",
   "id": "33f30a80",
   "metadata": {},
   "source": [
    "## User Prompt and Input"
   ]
  },
  {
   "cell_type": "code",
   "execution_count": 5,
   "id": "f7c7204d",
   "metadata": {},
   "outputs": [],
   "source": [
    "user_prompt = \"What are your learning goals for an online Computer Science course?\"\n",
    "user_input = \"I want to learn the basics of natural language processing, what course should I take? I have an undegraduate degree in linguistics\""
   ]
  },
  {
   "cell_type": "code",
   "execution_count": 6,
   "id": "c6374646",
   "metadata": {},
   "outputs": [],
   "source": [
    "## Step 2: Write a similarity function that computes the similarity between query (user input) and document (course description)\n",
    "def embedding_cosine_similarity(query, document, query_embedding=None):\n",
    "    # First, embed the query\n",
    "    if query_embedding is None:\n",
    "        query_embedding = rag_utils.get_embedding(query)\n",
    "    # Next, get the document embedding from the dataset\n",
    "    document_embedding = document['embedding']\n",
    "    # Next, compute the cosine similarity between the query and the document\n",
    "    return np.dot(query_embedding, document_embedding) / (np.linalg.norm(query_embedding) * np.linalg.norm(document_embedding))"
   ]
  },
  {
   "cell_type": "code",
   "execution_count": 7,
   "id": "e2bd77f4",
   "metadata": {},
   "outputs": [],
   "source": [
    "def jaccard_similarity(query, document, query_embedding=None):\n",
    "    query = query.lower().split(\" \")\n",
    "    document = document['title_and_desc'].lower().split(\" \")\n",
    "    intersection = set(query).intersection(set(document))\n",
    "    union = set(query).union(set(document))\n",
    "    return len(intersection)/len(union)\n",
    "\n",
    "def cosine_similarity(query, document, query_embedding=None):\n",
    "    query = query.lower().split(\" \")\n",
    "    document = document['title_and_desc'].lower().split(\" \")\n",
    "    intersection = set(query).intersection(set(document))\n",
    "    return len(intersection)/(len(query)*len(document))\n",
    "\n",
    "def return_options(query, corpus, similarity_function=cosine_similarity):\n",
    "    similarities = []\n",
    "    options_returned = []\n",
    "    query_embedding = rag_utils.get_embedding(query)\n",
    "    for idx, doc in corpus.iterrows():\n",
    "        similarity = similarity_function(user_input, doc, query_embedding)\n",
    "        similarities.append(similarity)\n",
    "    indices = list(range(len(similarities)))\n",
    "    for i in nlargest(5, indices, key = lambda x : similarities[x]): # get top 5 similarities\n",
    "        options_returned.append(\n",
    "            corpus['title_and_desc'][i]\n",
    "        ) # return the document at the index of similarity i\n",
    "    return options_returned"
   ]
  },
  {
   "cell_type": "code",
   "execution_count": 8,
   "id": "50666d51",
   "metadata": {},
   "outputs": [
    {
     "name": "stdout",
     "output_type": "stream",
     "text": [
      "Based on your interest in learning the basics of natural language processing (NLP) and your undergraduate degree in linguistics, here are the top course recommendations tailored to your background and goals:\n",
      "\n",
      "1. **Select Topics in Python: Natural Language Processing**\n",
      "   - **Why It's a Fit:** This course is specifically designed for learners who are novices to NLP and aims to provide a hands-on approach to coding. Since you already have a linguistics background, this course will allow you to bridge your knowledge of languages with programming by helping you analyze and process text through practical coding experiences, without overwhelming you with too much theory. It also provides instant feedback, making it easier for you to grasp NLP concepts efficiently.\n",
      "\n",
      "2. **Natural Language and the Computer Representation of Knowledge**\n",
      "   - **Why It's a Fit:** This course focuses on building systems for human language processing, integrating both theory and practical applications. With your background in linguistics, you would find the course's emphasis on linguistic, cognitive, and engineering foundations particularly relevant. It can provide a solid understanding of how human language can be represented and processed by computers, which aligns well with your interests.\n",
      "\n",
      "3. **Generative AI with Large Language Models**\n",
      "   - **Why It's a Fit:** Although this course is more intermediate, it can still serve as a valuable resource once you have grasped the basics. It covers foundational concepts of generative AI and LLMs, which are pivotal in modern NLP applications. As you progress in your learning, the content will equip you with practical skills to deploy AI models, drawing connections to your linguistics background as you explore more advanced projects.\n",
      "\n",
      "4. **Advanced Natural Language Processing**\n",
      "   - **Why It's a Fit:** While this is a graduate-level course and might be more advanced than you're currently looking for, it covers a comprehensive range of NLP topics, including syntactic parsing and dialogue systems, which you may find intriguing. If you feel comfortable with the basics after taking one of the previous courses, this might be a good next step to deepen your knowledge and skills in NLP.\n",
      "\n",
      "5. **Computational Models of Discourse**\n",
      "   - **Why It's a Fit:** This course offers insights into automatic discourse processing, which could be of interest to you if you're leaning towards understanding how language operates on a larger scale in communication. However, it's more specialized and might require familiarity with some core NLP concepts. It could serve as a follow-up course after you gain the foundational knowledge in earlier courses.\n",
      "\n",
      "In summary, starting with **\"Select Topics in Python: Natural Language Processing\"** will give you the most relevant hands-on experience and foundational knowledge, while the other courses can serve as valuable next steps as you deepen your understanding of NLP.\n"
     ]
    }
   ],
   "source": [
    "# Create the prompt\n",
    "relevant_documents = return_options(user_input, df, similarity_function=embedding_cosine_similarity)\n",
    "list_of_relevant_documents = [f\"{i+1}. {doc}\" for i, doc in enumerate(relevant_documents)]\n",
    "relevant_documents_text = \"\\n\".join(list_of_relevant_documents)\n",
    "prompt = f\"\"\"\n",
    "You are trying to help this user find an online Computer Science course\n",
    "From my database of CS courses, here were some recommendations based on the user input: {relevant_documents_text}\n",
    "The user input is: '{user_input}'\n",
    "Compile a recommendation to the user based on the recommended Computer Science courses and the user input, \n",
    "ranking the courses from the database in order of best fit for the user, and providing a brief explanation for why each course is a fit.\n",
    "\"\"\"\n",
    "#########\n",
    "\n",
    "try:\n",
    "    # Make the request to the OpenAI API\n",
    "    response = client.chat.completions.create(\n",
    "        model=\"gpt-4o-mini\",  \n",
    "        messages=[\n",
    "            {\"role\": \"system\", \"content\": \"You are a bot that makes recommendations for Computer Science courses.\"},\n",
    "            {\"role\": \"user\", \"content\": prompt}\n",
    "        ],\n",
    "        max_tokens=1000,\n",
    "    )\n",
    "    \n",
    "    # Process the response\n",
    "    chatgpt_response = response.choices[0].message.content\n",
    "    print(chatgpt_response)\n",
    "\n",
    "except openai.OpenAIError as e:\n",
    "    print(f\"OpenAI API error occurred: {e}\")\n",
    "except Exception as e:\n",
    "    print(f\"An error occurred: {e}\")\n",
    "#########\n"
   ]
  },
  {
   "cell_type": "code",
   "execution_count": null,
   "id": "c27a081d",
   "metadata": {},
   "outputs": [],
   "source": []
  }
 ],
 "metadata": {
  "kernelspec": {
   "display_name": "Python 3 (ipykernel)",
   "language": "python",
   "name": "python3"
  },
  "language_info": {
   "codemirror_mode": {
    "name": "ipython",
    "version": 3
   },
   "file_extension": ".py",
   "mimetype": "text/x-python",
   "name": "python",
   "nbconvert_exporter": "python",
   "pygments_lexer": "ipython3",
   "version": "3.9.13"
  }
 },
 "nbformat": 4,
 "nbformat_minor": 5
}

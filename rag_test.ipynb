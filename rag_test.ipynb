{
 "cells": [
  {
   "cell_type": "markdown",
   "id": "2348cada",
   "metadata": {},
   "source": [
    "## Imports"
   ]
  },
  {
   "cell_type": "code",
   "execution_count": 1,
   "id": "96e9a420",
   "metadata": {},
   "outputs": [],
   "source": [
    "import openai\n",
    "from openai import OpenAI\n",
    "from config import OPENAI_API_KEY\n",
    "from heapq import nlargest\n",
    "import numpy as np\n",
    "\n",
    "client = OpenAI(\n",
    "  api_key= OPENAI_API_KEY\n",
    ")\n",
    "import rag_utils\n",
    "import pandas as pd\n",
    "#import requests # only for ipynb\n",
    "import json\n",
    "\n",
    "embedding_model_name = \"text-embedding-3-small\"\n",
    "file_name = 'all_courses_with_embeddings.csv'"
   ]
  },
  {
   "cell_type": "markdown",
   "id": "6c3b9a89",
   "metadata": {},
   "source": [
    "## Reading in the Data\n",
    "\n",
    "### (And potentially doing the embedding)"
   ]
  },
  {
   "cell_type": "code",
   "execution_count": 2,
   "id": "622b303a",
   "metadata": {},
   "outputs": [
    {
     "name": "stdout",
     "output_type": "stream",
     "text": [
      "Embeddings already exist in the dataframe\n",
      "But we need to convert them into NP arrays\n",
      "Done\n"
     ]
    }
   ],
   "source": [
    "df = pd.read_csv(file_name)\n",
    "\n",
    "if ('title_and_desc' not in df.columns) and ('embedding' not in df.columns):\n",
    "    choice = input(\"Do you want to run the script to generate embeddings? Caution: this will take a while and burn your OpenAI credits. (yes/no)\")\n",
    "    if choice == 'yes':\n",
    "        df = rag_utils.embed_all_courses(df)\n",
    "else:\n",
    "    print(\"Embeddings already exist in the dataframe\")\n",
    "    print(\"But we need to convert them into NP arrays\")\n",
    "    df['embedding'] = df['embedding'].apply(lambda x: np.array(json.loads(x)))\n",
    "    print(\"Done\")"
   ]
  },
  {
   "cell_type": "markdown",
   "id": "33f30a80",
   "metadata": {},
   "source": [
    "## User Prompt and Input"
   ]
  },
  {
   "cell_type": "code",
   "execution_count": 3,
   "id": "f7c7204d",
   "metadata": {},
   "outputs": [],
   "source": [
    "user_prompt = \"What are your learning goals for an online Computer Science course? (For example: I want to learn the basics of programming and how to code. I have an undegraduate degree in Psychology)\"\n",
    "user_input = \"I want to learn the basics of natural language processing, what course should I take? I have an undegraduate degree in linguistics\""
   ]
  },
  {
   "cell_type": "code",
   "execution_count": 4,
   "id": "c6374646",
   "metadata": {},
   "outputs": [],
   "source": [
    "## Step 2: Write a similarity function that computes the similarity between query (user input) and document (course description)\n",
    "def embedding_cosine_similarity(query, document, query_embedding=None):\n",
    "    # First, embed the query\n",
    "    if query_embedding is None:\n",
    "        query_embedding = rag_utils.get_embedding(query)\n",
    "    # Next, get the document embedding from the dataset\n",
    "    document_embedding = document['embedding']\n",
    "    # Next, compute the cosine similarity between the query and the document\n",
    "    return np.dot(query_embedding, document_embedding) / (np.linalg.norm(query_embedding) * np.linalg.norm(document_embedding))"
   ]
  },
  {
   "cell_type": "code",
   "execution_count": 5,
   "id": "e2bd77f4",
   "metadata": {},
   "outputs": [],
   "source": [
    "def jaccard_similarity(query, document, query_embedding=None):\n",
    "    query = query.lower().split(\" \")\n",
    "    document = document['title_and_desc'].lower().split(\" \")\n",
    "    intersection = set(query).intersection(set(document))\n",
    "    union = set(query).union(set(document))\n",
    "    return len(intersection)/len(union)\n",
    "\n",
    "def cosine_similarity(query, document, query_embedding=None):\n",
    "    query = query.lower().split(\" \")\n",
    "    document = document['title_and_desc'].lower().split(\" \")\n",
    "    intersection = set(query).intersection(set(document))\n",
    "    return len(intersection)/(len(query)*len(document))\n",
    "\n",
    "def return_options(query, corpus, similarity_function=cosine_similarity):\n",
    "    similarities = []\n",
    "    options_returned = []\n",
    "    relevant_doc_links = [] \n",
    "    query_embedding = rag_utils.get_embedding(query)\n",
    "    for idx, doc in corpus.iterrows():\n",
    "        similarity = similarity_function(user_input, doc, query_embedding)\n",
    "        similarities.append(similarity)\n",
    "    indices = list(range(len(similarities)))\n",
    "    for i in nlargest(5, indices, key = lambda x : similarities[x]): # get top 5 similarities\n",
    "        options_returned.append(corpus['title_and_desc'][i]) # return the document at the index of similarity i\n",
    "        relevant_doc_links.append(corpus['Link'][i]) # CHANGED HERE: return the link of the document at the index of similarity i\n",
    "    return options_returned, relevant_doc_links"
   ]
  },
  {
   "cell_type": "markdown",
   "id": "80186310",
   "metadata": {},
   "source": [
    "## One-Shot Recommendation"
   ]
  },
  {
   "cell_type": "code",
   "execution_count": 7,
   "id": "50666d51",
   "metadata": {},
   "outputs": [
    {
     "ename": "OpenAIError",
     "evalue": "The api_key client option must be set either by passing api_key to the client or by setting the OPENAI_API_KEY environment variable",
     "output_type": "error",
     "traceback": [
      "\u001b[31m---------------------------------------------------------------------------\u001b[39m",
      "\u001b[31mOpenAIError\u001b[39m                               Traceback (most recent call last)",
      "\u001b[36mCell\u001b[39m\u001b[36m \u001b[39m\u001b[32mIn[7]\u001b[39m\u001b[32m, line 2\u001b[39m\n\u001b[32m      1\u001b[39m \u001b[38;5;66;03m# Create the prompt\u001b[39;00m\n\u001b[32m----> \u001b[39m\u001b[32m2\u001b[39m relevant_documents, relevant_doc_links = \u001b[43mreturn_options\u001b[49m\u001b[43m(\u001b[49m\u001b[43muser_input\u001b[49m\u001b[43m,\u001b[49m\u001b[43m \u001b[49m\u001b[43mdf\u001b[49m\u001b[43m,\u001b[49m\u001b[43m \u001b[49m\u001b[43msimilarity_function\u001b[49m\u001b[43m=\u001b[49m\u001b[43membedding_cosine_similarity\u001b[49m\u001b[43m)\u001b[49m\n\u001b[32m      3\u001b[39m list_of_relevant_documents = [\u001b[33mf\u001b[39m\u001b[33m\"\u001b[39m\u001b[38;5;132;01m{\u001b[39;00mi+\u001b[32m1\u001b[39m\u001b[38;5;132;01m}\u001b[39;00m\u001b[33m. \u001b[39m\u001b[38;5;132;01m{\u001b[39;00mdoc\u001b[38;5;132;01m}\u001b[39;00m\u001b[33m\"\u001b[39m \u001b[38;5;28;01mfor\u001b[39;00m i, doc \u001b[38;5;129;01min\u001b[39;00m \u001b[38;5;28menumerate\u001b[39m(relevant_documents)]\n\u001b[32m      4\u001b[39m list_of_relevant_documents_links = [\u001b[33mf\u001b[39m\u001b[33m\"\u001b[39m\u001b[38;5;132;01m{\u001b[39;00mi+\u001b[32m1\u001b[39m\u001b[38;5;132;01m}\u001b[39;00m\u001b[33m. \u001b[39m\u001b[38;5;132;01m{\u001b[39;00mlink\u001b[38;5;132;01m}\u001b[39;00m\u001b[33m\"\u001b[39m \u001b[38;5;28;01mfor\u001b[39;00m i, link \u001b[38;5;129;01min\u001b[39;00m \u001b[38;5;28menumerate\u001b[39m(relevant_doc_links)]\n",
      "\u001b[36mCell\u001b[39m\u001b[36m \u001b[39m\u001b[32mIn[5]\u001b[39m\u001b[32m, line 18\u001b[39m, in \u001b[36mreturn_options\u001b[39m\u001b[34m(query, corpus, similarity_function)\u001b[39m\n\u001b[32m     16\u001b[39m options_returned = []\n\u001b[32m     17\u001b[39m relevant_doc_links = [] \n\u001b[32m---> \u001b[39m\u001b[32m18\u001b[39m query_embedding = \u001b[43mrag_utils\u001b[49m\u001b[43m.\u001b[49m\u001b[43mget_embedding\u001b[49m\u001b[43m(\u001b[49m\u001b[43mquery\u001b[49m\u001b[43m)\u001b[49m\n\u001b[32m     19\u001b[39m \u001b[38;5;28;01mfor\u001b[39;00m idx, doc \u001b[38;5;129;01min\u001b[39;00m corpus.iterrows():\n\u001b[32m     20\u001b[39m     similarity = similarity_function(user_input, doc, query_embedding)\n",
      "\u001b[36mFile \u001b[39m\u001b[32m~/Desktop/projects/gaita/rag_utils.py:25\u001b[39m, in \u001b[36mget_embedding\u001b[39m\u001b[34m(text, model)\u001b[39m\n\u001b[32m     24\u001b[39m \u001b[38;5;28;01mdef\u001b[39;00m\u001b[38;5;250m \u001b[39m\u001b[34mget_embedding\u001b[39m(text, model=embedding_model_name):\n\u001b[32m---> \u001b[39m\u001b[32m25\u001b[39m     client = \u001b[43mOpenAI\u001b[49m\u001b[43m(\u001b[49m\u001b[43m)\u001b[49m  \u001b[38;5;66;03m# It will automatically use OPENAI_API_KEY from environment\u001b[39;00m\n\u001b[32m     26\u001b[39m     text = text.replace(\u001b[33m\"\u001b[39m\u001b[38;5;130;01m\\n\u001b[39;00m\u001b[33m\"\u001b[39m, \u001b[33m\"\u001b[39m\u001b[33m \u001b[39m\u001b[33m\"\u001b[39m)\n\u001b[32m     27\u001b[39m     \u001b[38;5;28;01mreturn\u001b[39;00m client.embeddings.create(\u001b[38;5;28minput\u001b[39m = [text], model=model).data[\u001b[32m0\u001b[39m].embedding\n",
      "\u001b[36mFile \u001b[39m\u001b[32m/opt/anaconda3/envs/gaita2env/lib/python3.12/site-packages/openai/_client.py:105\u001b[39m, in \u001b[36mOpenAI.__init__\u001b[39m\u001b[34m(self, api_key, organization, project, base_url, timeout, max_retries, default_headers, default_query, http_client, _strict_response_validation)\u001b[39m\n\u001b[32m    103\u001b[39m     api_key = os.environ.get(\u001b[33m\"\u001b[39m\u001b[33mOPENAI_API_KEY\u001b[39m\u001b[33m\"\u001b[39m)\n\u001b[32m    104\u001b[39m \u001b[38;5;28;01mif\u001b[39;00m api_key \u001b[38;5;129;01mis\u001b[39;00m \u001b[38;5;28;01mNone\u001b[39;00m:\n\u001b[32m--> \u001b[39m\u001b[32m105\u001b[39m     \u001b[38;5;28;01mraise\u001b[39;00m OpenAIError(\n\u001b[32m    106\u001b[39m         \u001b[33m\"\u001b[39m\u001b[33mThe api_key client option must be set either by passing api_key to the client or by setting the OPENAI_API_KEY environment variable\u001b[39m\u001b[33m\"\u001b[39m\n\u001b[32m    107\u001b[39m     )\n\u001b[32m    108\u001b[39m \u001b[38;5;28mself\u001b[39m.api_key = api_key\n\u001b[32m    110\u001b[39m \u001b[38;5;28;01mif\u001b[39;00m organization \u001b[38;5;129;01mis\u001b[39;00m \u001b[38;5;28;01mNone\u001b[39;00m:\n",
      "\u001b[31mOpenAIError\u001b[39m: The api_key client option must be set either by passing api_key to the client or by setting the OPENAI_API_KEY environment variable"
     ]
    }
   ],
   "source": [
    "# Create the prompt\n",
    "relevant_documents, relevant_doc_links = return_options(user_input, df, similarity_function=embedding_cosine_similarity)\n",
    "list_of_relevant_documents = [f\"{i+1}. {doc}\" for i, doc in enumerate(relevant_documents)]\n",
    "list_of_relevant_documents_links = [f\"{i+1}. {link}\" for i, link in enumerate(relevant_doc_links)]\n",
    "relevant_documents_text = \"\\n\".join(list_of_relevant_documents)\n",
    "relevant_documents_links_text = \"\\n\".join(list_of_relevant_documents_links)\n",
    "prompt = f\"\"\"\n",
    "You are trying to help this user find an online Computer Science course\n",
    "From my database of CS courses, here were some recommendations based on the user input: {relevant_documents_text}\n",
    "The user input is: '{user_input}'\n",
    "Compile a recommendation to the user based on the recommended Computer Science courses and the user input, \n",
    "returning the top 3 courses with their links embedded in the title: {relevant_documents_links_text} from the database, ranked in order of best fit for the user, and providing a brief explanation for why each course is a fit.\n",
    "Additionally, ask the user a relevant question to gather more infomation about whether they possess the prerequisite knowledge to take the courses.\n",
    "\"\"\"\n",
    "#########\n",
    "\n",
    "try:\n",
    "    # Make the request to the OpenAI API\n",
    "    response = client.chat.completions.create(\n",
    "        model=\"gpt-4o-mini\",  \n",
    "        messages=[\n",
    "            {\"role\": \"system\", \"content\": \"You are a bot that makes recommendations for Computer Science courses.\"},\n",
    "            {\"role\": \"user\", \"content\": prompt}\n",
    "        ],\n",
    "        max_tokens=1000,\n",
    "    )\n",
    "    \n",
    "    # Process the response\n",
    "    chatgpt_response = response.choices[0].message.content\n",
    "    print(chatgpt_response)\n",
    "\n",
    "except openai.OpenAIError as e:\n",
    "    print(f\"OpenAI API error occurred: {e}\")\n",
    "except Exception as e:\n",
    "    print(f\"An error occurred: {e}\")\n",
    "#########\n"
   ]
  },
  {
   "cell_type": "markdown",
   "id": "e8874a03",
   "metadata": {},
   "source": [
    "## Iterative Prompting based on user response"
   ]
  },
  {
   "cell_type": "code",
   "execution_count": 7,
   "id": "c27a081d",
   "metadata": {},
   "outputs": [
    {
     "name": "stdout",
     "output_type": "stream",
     "text": [
      "\"Python programming courses for beginners with no machine learning experience.\"\n"
     ]
    }
   ],
   "source": [
    "user_response = \"I took an intro programming class taught in Python in college, but do not have much experience with machine learning.\"\n",
    "\n",
    "user_response_prompt = f\"\"\"\n",
    "The user responded: '{user_response}'\n",
    "Based on the user response, could you come up with a short (under 15 words) plain text query for me to run in my vector database so that we can recommend courses to the user to satisfy any missing prerequisites?\n",
    "Return just the query.\n",
    "\"\"\"\n",
    "\n",
    "chat_so_far = [\n",
    "            {\"role\": \"system\", \"content\": \"You are a bot that makes recommendations for Computer Science courses.\"},\n",
    "            {\"role\": \"user\", \"content\": prompt},\n",
    "            {\"role\": \"assistant\", \"content\": chatgpt_response},\n",
    "        ]\n",
    "\n",
    "chat_for_query = chat_so_far + [{\"role\": \"user\", \"content\": user_response_prompt}]\n",
    "\n",
    "# Make the request to the OpenAI API\n",
    "response = client.chat.completions.create(\n",
    "    model=\"gpt-4o-mini\",  \n",
    "    messages=chat_for_query,\n",
    "    max_tokens=1000,\n",
    ")\n",
    "\n",
    "# Process the response\n",
    "chatgpt_query = response.choices[0].message.content\n",
    "print(chatgpt_query)\n"
   ]
  },
  {
   "cell_type": "code",
   "execution_count": 8,
   "id": "3326fb59",
   "metadata": {},
   "outputs": [
    {
     "name": "stdout",
     "output_type": "stream",
     "text": [
      "Based on your previous experience with an introductory programming class in Python and your expressed interest in machine learning, here are the top two course recommendations that would help you build a solid foundation in the required prerequisites for exploring NLP and machine learning further:\n",
      "\n",
      "1. [Introduction to Machine Learning with Python](https://www.coursera.org/learn/introduction-to-machine-learning-with-python)  \n",
      "   This course is an excellent fit for you as it provides a comprehensive introduction to machine learning concepts while using Python. It covers various topics including supervised and unsupervised learning, deep learning, and model implementation using Python. Since you're looking to bridge the gap in your machine learning knowledge, this course will give you the foundational understanding needed to move forward in your studies.\n",
      "\n",
      "2. [Practical Python for AI Coding 1: Introduction](https://www.coursera.org/learn/practical-python-for-ai-coding--preparation-for-coding)  \n",
      "   This course is designed for novices and will refresh your Python programming skills with a focus on practical applications in AI coding. It covers important libraries such as NumPy and TensorFlow, which are integral to machine learning projects. This course will help you establish a coding environment on your computer and give you the essential coding skills you need to start modeling effectively.\n",
      "\n",
      "These courses will not only enhance your Python programming skills but will also provide a solid introduction to machine learning, making you well-prepared for more advanced studies in NLP.\n",
      "\n",
      "If you’d like to further refine your choices, could you let me know what specific areas of machine learning or AI interest you the most? This information could help tailor recommendations even more closely to your goals!\n"
     ]
    }
   ],
   "source": [
    "relevant_documents, relevant_doc_links = return_options(chatgpt_query, df, similarity_function=embedding_cosine_similarity)\n",
    "list_of_relevant_documents = [f\"{i+1}. {doc}\" for i, doc in enumerate(relevant_documents)]\n",
    "list_of_relevant_documents_links = [f\"{i+1}. {link}\" for i, link in enumerate(relevant_doc_links)]\n",
    "relevant_documents_text = \"\\n\".join(list_of_relevant_documents)\n",
    "relevant_documents_links_text = \"\\n\".join(list_of_relevant_documents_links)\n",
    "prompt = f\"\"\"\n",
    "You are trying to help this user find online Computer Science courses to satisfy any missing prerequisites\n",
    "From my database of CS courses, here were some recommendations based on the user input: {relevant_documents_text}\n",
    "The user input is: '{user_response}'\n",
    "Compile a recommendation to the user based on the recommended Computer Science courses and the user input,\n",
    "returning the top 2 courses with thier links embedded in the title: {relevant_documents_links_text} from the database, ranked in order of best fit for the user, and providing a brief explanation for why each course is a fit.\n",
    "\"\"\"\n",
    "chat_so_far.append({\"role\": \"user\", \"content\": prompt})\n",
    "\n",
    "try:\n",
    "    # Make the request to the OpenAI API\n",
    "    response = client.chat.completions.create(\n",
    "        model=\"gpt-4o-mini\",  \n",
    "        messages=chat_so_far,\n",
    "        max_tokens=1000,\n",
    "    )\n",
    "    \n",
    "    # Process the response\n",
    "    chatgpt_response = response.choices[0].message.content\n",
    "    print(chatgpt_response)\n",
    "\n",
    "except openai.OpenAIError as e:\n",
    "    print(f\"OpenAI API error occurred: {e}\")\n",
    "except Exception as e:\n",
    "    print(f\"An error occurred: {e}\")\n",
    "\n",
    "\n"
   ]
  },
  {
   "cell_type": "markdown",
   "id": "7bc0ad30",
   "metadata": {},
   "source": [
    "## EVALUATION comparing Gaita's first response to Gemini, Vanilla ChatGPT, and Claude?"
   ]
  },
  {
   "cell_type": "code",
   "execution_count": 12,
   "id": "e826befe",
   "metadata": {},
   "outputs": [
    {
     "name": "stdout",
     "output_type": "stream",
     "text": [
      "Here’s how I would rate the relevance of each recommendation for my query on building a RAG-based chatbot:\n",
      "\n",
      "**Recommendation #1: 8/10**\n",
      "- This recommendation includes some specific courses aimed at foundational skills in NLP and AI. The course \"Build a Custom Chatbot in a Day with RAG\" directly addresses my query about RAG-based chatbots. However, the other courses provided are not specifically about RAG, though they do offer essential knowledge that could be beneficial.\n",
      "\n",
      "**Recommendation #2: 9/10**\n",
      "- This recommendation offers a more tailored selection for my specific interest in RAG-based chatbots, particularly the \"Intro to Mistral AI\" course and the chatbot development course without programming. These courses are directly applicable to building RAG-based chatbots and seem very relevant to what I want to learn, providing a practical approach alongside foundational knowledge.\n",
      "\n",
      "**Recommendation #3: 7/10**\n",
      "- While this recommendation provides general courses that cover the fundamentals of NLP and chatbots, they lack a specific focus on RAG techniques. The courses mentioned would be helpful for building a general understanding but may not directly provide the specialized skills needed to build a RAG-based chatbot. \n",
      "\n",
      "Overall, I appreciate the variety in the recommendations but would lean towards Recommendation #2 for its direct relevance and practical approach to my specific interest in developing a RAG-based chatbot.\n"
     ]
    }
   ],
   "source": [
    "# Add text to evaluate\n",
    "\n",
    "user_input = \"I want to learn how to build a RAG based chatbot\"\n",
    "gemini_answer = '''\n",
    "    **Here are a few excellent courses to consider for learning how to build a RAG-based chatbot:**\n",
    "\n",
    "    **Online Courses**\n",
    "\n",
    "    - Coursera's \"Natural Language Processing Specialization\": This comprehensive specialization covers the fundamentals of NLP, including text processing, machine learning for NLP, and building NLP applications. While it doesn't specifically focus on RAG, it provides a strong foundation for understanding the underlying concepts.\n",
    "    - Udacity's \"AI Programming with Python\": This course introduces you to AI programming using Python, covering topics like machine learning, deep learning, and natural language processing. Although not specifically about RAG, it's a great starting point for those new to AI and Python.\n",
    "\n",
    "    **Specialized Courses**\n",
    "\n",
    "    - Krisolis' \"Build a Custom Chatbot in a Day with RAG\": Similar to the DeepLearning.AI course, this one-day course focuses on building a RAG-based chatbot. It covers the theoretical concepts and practical implementation using Python.\n",
    "\n",
    "    By combining these resources and tailoring your learning to your specific needs, you can effectively learn how to build a RAG-based chatbot.\n",
    "\n",
    "    **Would you like me to provide more information about any of these courses or resources?**\n",
    "    '''\n",
    "\n",
    "gaita_answer = '''    \n",
    "    **Here are some recommended courses for you, based on your interest in building a RAG-based chatbot:**\n",
    "    \n",
    "    1. [Intro to Mistral AI](https://www.coursera.org/learn/intro-to-mistral-ai): This course focuses on interacting with Mistral's AI models through JavaScript. It covers concepts that are applicable to various programming languages, making it beneficial for anyone looking to build intelligent applications, including chatbots that utilize retrieval-augmented generation (RAG) techniques.\n",
    "    2. [Building AI Powered Chatbots Without Programming](https://www.coursera.org/learn/building-ai-powered-chatbots): This course teaches you how to create chatbots without needing to write code, using IBM Watson's Natural Language Processing capabilities. Given that RAG chatbots can be built with limited coding knowledge, this course serves as a great introduction to the concepts and planning necessary for chatbot development.\n",
    "    3. [Learn to code with AI](https://www.coursera.org/learn/learn-to-code-with-ai): While this course is aimed at beginners, it empowers you to create functional projects with the help of AI tools like ChatGPT. Understanding how to work with AI will be beneficial as you develop your chatbot, especially if you plan to involve RAG methodologies in your design.\n",
    "    \n",
    "    **To better assist you, could you please share if you have any prior programming experience or familiarity with building chatbots? This will help me identify any gaps in your knowledge and suggest further courses to prepare you for these recommendations.**\n",
    "'''\n",
    "\n",
    "vanilla_gpt_answer = '''    \n",
    "    To build a Retrieval-Augmented Generation (RAG) based chatbot, consider these online courses and resources:\n",
    "    \n",
    "    1. **Coursera: Natural Language Processing Specialization by Deeplearning.ai** - This series covers NLP fundamentals, which are essential for building chatbots.\n",
    "    2. **edX: AI for Everyone by Andrew Ng** - A great introduction to AI concepts, including applications like chatbots.\n",
    "    3. **Udemy: Building Chatbots with Python** - This course walks through creating chatbots and can provide foundational skills.\n",
    "    \n",
    "    **Choose one or a combination of these based on your current skill level and preferred learning style!**\n",
    "'''\n",
    "\n",
    "\n",
    "\n",
    "gen_answers = [gemini_answer, gaita_answer, vanilla_gpt_answer]\n",
    "\n",
    "# Run evaluation\n",
    "\n",
    "prompt=f\"\"\"\n",
    "How relevant are each of the following recommendations for your query, on a scale of 1 to 10? \\\n",
    "Recommendation #1: {gen_answers[0]}\n",
    "Recommendation #2: {gen_answers[1]}\n",
    "Recommendation #3: {gen_answers[2]}\n",
    "\n",
    "\"\"\"\n",
    "\n",
    "new_chat = [\n",
    "            {\"role\": \"system\", \"content\": f\"You are a student who wants to learn Computer Science. You have a specific query that you've entered into three different course recommendation systems. Your query is '{user_input}'\"},\n",
    "            {\"role\": \"user\", \"content\": prompt}\n",
    "        ]\n",
    "\n",
    "try:\n",
    "    # Make the request to the OpenAI API\n",
    "    response = client.chat.completions.create(\n",
    "        model=\"gpt-4o-mini\",  \n",
    "        messages=new_chat,\n",
    "        max_tokens=1000,\n",
    "    )\n",
    "    \n",
    "    # Process the response\n",
    "    chatgpt_response = response.choices[0].message.content\n",
    "    print(chatgpt_response)\n",
    "\n",
    "except openai.OpenAIError as e:\n",
    "    print(f\"OpenAI API error occurred: {e}\")\n",
    "except Exception as e:\n",
    "    print(f\"An error occurred: {e}\")"
   ]
  }
 ],
 "metadata": {
  "kernelspec": {
   "display_name": "gaita2env",
   "language": "python",
   "name": "python3"
  },
  "language_info": {
   "codemirror_mode": {
    "name": "ipython",
    "version": 3
   },
   "file_extension": ".py",
   "mimetype": "text/x-python",
   "name": "python",
   "nbconvert_exporter": "python",
   "pygments_lexer": "ipython3",
   "version": "3.12.7"
  }
 },
 "nbformat": 4,
 "nbformat_minor": 5
}

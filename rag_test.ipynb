{
 "cells": [
  {
   "cell_type": "markdown",
   "id": "2348cada",
   "metadata": {},
   "source": [
    "## Imports"
   ]
  },
  {
   "cell_type": "code",
   "execution_count": 1,
   "id": "96e9a420",
   "metadata": {},
   "outputs": [],
   "source": [
    "import openai\n",
    "from openai import OpenAI\n",
    "from config import OPENAI_API_KEY\n",
    "from heapq import nlargest\n",
    "import numpy as np\n",
    "\n",
    "client = OpenAI(\n",
    "  api_key= OPENAI_API_KEY\n",
    ")\n",
    "import rag_utils\n",
    "import pandas as pd\n",
    "import requests\n",
    "import json\n",
    "\n",
    "embedding_model_name = \"text-embedding-3-small\"\n",
    "file_name = 'all_courses_with_embeddings.csv'"
   ]
  },
  {
   "cell_type": "markdown",
   "id": "6c3b9a89",
   "metadata": {},
   "source": [
    "## Reading in the Data\n",
    "\n",
    "### (And potentially doing the embedding)"
   ]
  },
  {
   "cell_type": "code",
   "execution_count": 2,
   "id": "622b303a",
   "metadata": {},
   "outputs": [
    {
     "name": "stdout",
     "output_type": "stream",
     "text": [
      "Embeddings already exist in the dataframe\n",
      "But we need to convert them into NP arrays\n",
      "Done\n"
     ]
    }
   ],
   "source": [
    "df = pd.read_csv(file_name)\n",
    "\n",
    "if ('title_and_desc' not in df.columns) and ('embedding' not in df.columns):\n",
    "    choice = input(\"Do you want to run the script to generate embeddings? Caution: this will take a while and burn your OpenAI credits. (yes/no)\")\n",
    "    if choice == 'yes':\n",
    "        df = rag_utils.embed_all_courses(df)\n",
    "else:\n",
    "    print(\"Embeddings already exist in the dataframe\")\n",
    "    print(\"But we need to convert them into NP arrays\")\n",
    "    df['embedding'] = df['embedding'].apply(lambda x: np.array(json.loads(x)))\n",
    "    print(\"Done\")"
   ]
  },
  {
   "cell_type": "markdown",
   "id": "33f30a80",
   "metadata": {},
   "source": [
    "## User Prompt and Input"
   ]
  },
  {
   "cell_type": "code",
   "execution_count": 3,
   "id": "f7c7204d",
   "metadata": {},
   "outputs": [],
   "source": [
    "user_prompt = \"What are your learning goals for an online Computer Science course? (For example: I want to learn the basics of programming and how to code. I have an undegraduate degree in Psychology)\"\n",
    "user_input = \"I want to learn the basics of natural language processing, what course should I take? I have an undegraduate degree in linguistics\""
   ]
  },
  {
   "cell_type": "code",
   "execution_count": 4,
   "id": "c6374646",
   "metadata": {},
   "outputs": [],
   "source": [
    "## Step 2: Write a similarity function that computes the similarity between query (user input) and document (course description)\n",
    "def embedding_cosine_similarity(query, document, query_embedding=None):\n",
    "    # First, embed the query\n",
    "    if query_embedding is None:\n",
    "        query_embedding = rag_utils.get_embedding(query)\n",
    "    # Next, get the document embedding from the dataset\n",
    "    document_embedding = document['embedding']\n",
    "    # Next, compute the cosine similarity between the query and the document\n",
    "    return np.dot(query_embedding, document_embedding) / (np.linalg.norm(query_embedding) * np.linalg.norm(document_embedding))"
   ]
  },
  {
   "cell_type": "code",
   "execution_count": 5,
   "id": "e2bd77f4",
   "metadata": {},
   "outputs": [],
   "source": [
    "def jaccard_similarity(query, document, query_embedding=None):\n",
    "    query = query.lower().split(\" \")\n",
    "    document = document['title_and_desc'].lower().split(\" \")\n",
    "    intersection = set(query).intersection(set(document))\n",
    "    union = set(query).union(set(document))\n",
    "    return len(intersection)/len(union)\n",
    "\n",
    "def cosine_similarity(query, document, query_embedding=None):\n",
    "    query = query.lower().split(\" \")\n",
    "    document = document['title_and_desc'].lower().split(\" \")\n",
    "    intersection = set(query).intersection(set(document))\n",
    "    return len(intersection)/(len(query)*len(document))\n",
    "\n",
    "def return_options(query, corpus, similarity_function=cosine_similarity):\n",
    "    similarities = []\n",
    "    options_returned = []\n",
    "    query_embedding = rag_utils.get_embedding(query)\n",
    "    for idx, doc in corpus.iterrows():\n",
    "        similarity = similarity_function(user_input, doc, query_embedding)\n",
    "        similarities.append(similarity)\n",
    "    indices = list(range(len(similarities)))\n",
    "    for i in nlargest(5, indices, key = lambda x : similarities[x]): # get top 5 similarities\n",
    "        options_returned.append(\n",
    "            corpus['title_and_desc'][i]\n",
    "        ) # return the document at the index of similarity i\n",
    "    return options_returned"
   ]
  },
  {
   "cell_type": "code",
   "execution_count": 6,
   "id": "50666d51",
   "metadata": {},
   "outputs": [
    {
     "name": "stdout",
     "output_type": "stream",
     "text": [
      "Based on your interest in learning the basics of natural language processing (NLP) and your background in linguistics, here are the top three course recommendations ranked in order of best fit for you:\n",
      "\n",
      "1. **Select Topics in Python: Natural Language Processing**  \n",
      "   This course is designed specifically for those with some programming experience, making it a great fit for your background. You'll learn to code and run NLP programs quickly without needing prior installation knowledge. The hands-on approach and practical assignments will allow you to solidify your understanding of text processing, speech analysis, and even bot development, bridging the gap between your linguistics education and programming.\n",
      "\n",
      "2. **Natural Language and the Computer Representation of Knowledge (6.863)**  \n",
      "   This laboratory-oriented course focuses on the intersection of linguistics and computer science, making it highly relevant to your undergraduate degree. While it's more advanced, it will expose you to the theoretical underpinnings of language processing and the engineering principles involved in building NLP systems, providing comprehensive insights into the field.\n",
      "\n",
      "3. **Generative AI with Large Language Models**  \n",
      "   As an intermediate course, it requires some coding experience, along with a foundational understanding of machine learning. If you have a basic understanding of programming and machine learning concepts, this course will help you understand how modern NLP systems are built using large language models, expanding your knowledge of generative AI and its applications.\n",
      "\n",
      "To help narrow down the best course for you, could you please let me know about your prior coding experience? Specifically, are you comfortable with Python programming and have you taken any introductory courses in machine learning?\n"
     ]
    }
   ],
   "source": [
    "# Create the prompt\n",
    "relevant_documents = return_options(user_input, df, similarity_function=embedding_cosine_similarity)\n",
    "list_of_relevant_documents = [f\"{i+1}. {doc}\" for i, doc in enumerate(relevant_documents)]\n",
    "relevant_documents_text = \"\\n\".join(list_of_relevant_documents)\n",
    "prompt = f\"\"\"\n",
    "You are trying to help this user find an online Computer Science course\n",
    "From my database of CS courses, here were some recommendations based on the user input: {relevant_documents_text}\n",
    "The user input is: '{user_input}'\n",
    "Compile a recommendation to the user based on the recommended Computer Science courses and the user input, \n",
    "returning the top 3 courses from the database, ranked in order of best fit for the user, and providing a brief explanation for why each course is a fit.\n",
    "Additionally, ask the user a relevant question to gather more infomation about whether they possess the prerequisite knowledge to take the courses.\n",
    "\"\"\"\n",
    "#########\n",
    "\n",
    "try:\n",
    "    # Make the request to the OpenAI API\n",
    "    response = client.chat.completions.create(\n",
    "        model=\"gpt-4o-mini\",  \n",
    "        messages=[\n",
    "            {\"role\": \"system\", \"content\": \"You are a bot that makes recommendations for Computer Science courses.\"},\n",
    "            {\"role\": \"user\", \"content\": prompt}\n",
    "        ],\n",
    "        max_tokens=1000,\n",
    "    )\n",
    "    \n",
    "    # Process the response\n",
    "    chatgpt_response = response.choices[0].message.content\n",
    "    print(chatgpt_response)\n",
    "\n",
    "except openai.OpenAIError as e:\n",
    "    print(f\"OpenAI API error occurred: {e}\")\n",
    "except Exception as e:\n",
    "    print(f\"An error occurred: {e}\")\n",
    "#########\n"
   ]
  },
  {
   "cell_type": "code",
   "execution_count": 7,
   "id": "c27a081d",
   "metadata": {},
   "outputs": [
    {
     "name": "stdout",
     "output_type": "stream",
     "text": [
      "\"Introductory machine learning courses for beginners with Python experience.\"\n"
     ]
    }
   ],
   "source": [
    "user_response = \"I took an intro programming class taught in Python in college, but do not have much experience with machine learning.\"\n",
    "\n",
    "user_response_prompt = f\"\"\"\n",
    "The user responded: '{user_response}'\n",
    "Based on the user response, could you come up with a short (under 15 words) plain text query for me to run in my vector database so that we can recommend courses to the user to satisfy any missing prerequisites?\n",
    "Return just the query.\n",
    "\"\"\"\n",
    "\n",
    "chat_so_far = [\n",
    "            {\"role\": \"system\", \"content\": \"You are a bot that makes recommendations for Computer Science courses.\"},\n",
    "            {\"role\": \"user\", \"content\": prompt},\n",
    "            {\"role\": \"assistant\", \"content\": chatgpt_response},\n",
    "        ]\n",
    "\n",
    "chat_for_query = chat_so_far + [{\"role\": \"user\", \"content\": user_response_prompt}]\n",
    "\n",
    "# Make the request to the OpenAI API\n",
    "response = client.chat.completions.create(\n",
    "    model=\"gpt-4o-mini\",  \n",
    "    messages=chat_for_query,\n",
    "    max_tokens=1000,\n",
    ")\n",
    "\n",
    "# Process the response\n",
    "chatgpt_query = response.choices[0].message.content\n",
    "print(chatgpt_query)\n",
    "\n",
    "\n",
    "\n"
   ]
  },
  {
   "cell_type": "code",
   "execution_count": 8,
   "id": "3326fb59",
   "metadata": {},
   "outputs": [
    {
     "name": "stdout",
     "output_type": "stream",
     "text": [
      "Based on your prior experience with an introductory Python programming course and your expressed interest in machine learning, here are the top two course recommendations to help you build the necessary skills:\n",
      "\n",
      "1. **Introduction to Machine Learning with Python**  \n",
      "   This course is a perfect fit as it provides a comprehensive introduction to machine learning using Python. Since you already have a basic understanding of Python, this course will allow you to learn key concepts and methodologies in machine learning without requiring a computer science background. You'll gain hands-on experience by implementing various machine learning models, which will help you transition smoothly into practical applications in the field.\n",
      "\n",
      "2. **Introduction to Programming**  \n",
      "   While you have already taken an introductory programming class, this course can still be beneficial as it reinforces fundamental programming concepts and explores additional topics such as natural language processing and data analytics. It will help solidify your programming abilities in Python and provide you with a deeper understanding of how to develop robust programs. This foundational knowledge will be advantageous as you start exploring machine learning concepts.\n",
      "\n",
      "These courses will help strengthen your programming skills while providing a solid foundation in machine learning. If you have any specific areas you would like to focus on more, please let me know!\n"
     ]
    }
   ],
   "source": [
    "relevant_documents = return_options(chatgpt_query, df, similarity_function=embedding_cosine_similarity)\n",
    "list_of_relevant_documents = [f\"{i+1}. {doc}\" for i, doc in enumerate(relevant_documents)]\n",
    "relevant_documents_text = \"\\n\".join(list_of_relevant_documents)\n",
    "prompt = f\"\"\"\n",
    "You are trying to help this user find online Computer Science courses to satisfy any missing prerequisites\n",
    "From my database of CS courses, here were some recommendations based on the user input: {relevant_documents_text}\n",
    "The user input is: '{user_response}'\n",
    "Compile a recommendation to the user based on the recommended Computer Science courses and the user input,\n",
    "returning the top 2 courses from the database, ranked in order of best fit for the user, and providing a brief explanation for why each course is a fit.\n",
    "\"\"\"\n",
    "chat_so_far.append({\"role\": \"user\", \"content\": prompt})\n",
    "\n",
    "try:\n",
    "    # Make the request to the OpenAI API\n",
    "    response = client.chat.completions.create(\n",
    "        model=\"gpt-4o-mini\",  \n",
    "        messages=chat_so_far,\n",
    "        max_tokens=1000,\n",
    "    )\n",
    "    \n",
    "    # Process the response\n",
    "    chatgpt_response = response.choices[0].message.content\n",
    "    print(chatgpt_response)\n",
    "\n",
    "except openai.OpenAIError as e:\n",
    "    print(f\"OpenAI API error occurred: {e}\")\n",
    "except Exception as e:\n",
    "    print(f\"An error occurred: {e}\")\n",
    "\n",
    "\n"
   ]
  }
 ],
 "metadata": {
  "kernelspec": {
   "display_name": "Python 3 (ipykernel)",
   "language": "python",
   "name": "python3"
  },
  "language_info": {
   "codemirror_mode": {
    "name": "ipython",
    "version": 3
   },
   "file_extension": ".py",
   "mimetype": "text/x-python",
   "name": "python",
   "nbconvert_exporter": "python",
   "pygments_lexer": "ipython3",
   "version": "3.9.13"
  }
 },
 "nbformat": 4,
 "nbformat_minor": 5
}

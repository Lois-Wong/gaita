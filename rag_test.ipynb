{
 "cells": [
  {
   "cell_type": "code",
   "execution_count": 2,
   "id": "c7228ca9-72cf-4c95-a55c-adcd49319896",
   "metadata": {},
   "outputs": [],
   "source": [
    "import openai\n",
    "from openai import OpenAI\n",
    "from config import OPENAI_API_KEY\n",
    "from heapq import nlargest\n",
    "import numpy as np\n",
    "\n",
    "client = OpenAI(\n",
    "  api_key= OPENAI_API_KEY\n",
    ")\n",
    "\n",
    "import pandas as pd\n",
    "import requests\n",
    "import json\n",
    "\n",
    "embedding_model_name = \"text-embedding-3-small\""
   ]
  },
  {
   "cell_type": "markdown",
   "id": "f1a558e9",
   "metadata": {},
   "source": []
  },
  {
   "cell_type": "code",
   "execution_count": 3,
   "id": "622b303a",
   "metadata": {},
   "outputs": [],
   "source": [
    "df = pd.read_csv('all_courses.csv')"
   ]
  },
  {
   "cell_type": "code",
   "execution_count": 22,
   "id": "1dde9fa3",
   "metadata": {},
   "outputs": [],
   "source": [
    "df['title_and_desc'] = df['Title'] + ': ' + df['Description']"
   ]
  },
  {
   "cell_type": "code",
   "execution_count": null,
   "id": "0620c95b",
   "metadata": {},
   "outputs": [],
   "source": []
  },
  {
   "cell_type": "markdown",
   "id": "3e721d27",
   "metadata": {},
   "source": [
    "#### Most recent attempt\n",
    "- Recommend a course based on a plain text prompt"
   ]
  },
  {
   "cell_type": "code",
   "execution_count": 23,
   "id": "f7c7204d",
   "metadata": {},
   "outputs": [],
   "source": [
    "user_prompt = \"What are your learning goals for an online Computer Science course?\"\n",
    "user_input = \"I want to learn the basics of natural language processing, what course should I take? I have an undegradaute degree in linguistics\""
   ]
  },
  {
   "cell_type": "code",
   "execution_count": 28,
   "id": "060b43d6",
   "metadata": {},
   "outputs": [],
   "source": [
    "## Step 1 : Embed all the courses in the dataset\n",
    "\n",
    "### Step 1.1: Write function to get embedding of one course\n",
    "def get_embedding(text, model=embedding_model_name):\n",
    "    text = text.replace(\"\\n\", \" \")\n",
    "    return client.embeddings.create(input = [text], model=model).data[0].embedding\n",
    "\n",
    "### Step 1.2: Apply the function to the entire dataset\n",
    "df['embedding'] = df['title_and_desc'].apply(get_embedding)\n",
    "\n",
    "### Step 1.3: Save the dataset with embeddings\n",
    "df.to_csv('all_courses_with_embeddings.csv', index=False)"
   ]
  },
  {
   "cell_type": "code",
   "execution_count": null,
   "id": "1027e85c",
   "metadata": {},
   "outputs": [],
   "source": []
  },
  {
   "cell_type": "code",
   "execution_count": 40,
   "id": "c6374646",
   "metadata": {},
   "outputs": [],
   "source": [
    "## Step 2: Write a similarity function that computes the similarity between query (user input) and document (course description)\n",
    "query_embedding=None\n",
    "def embedding_cosine_similarity(query, document):\n",
    "    # First, embed the query\n",
    "    if query_embedding is None:\n",
    "        query_embedding = get_embedding(query)\n",
    "    # Next, get the document embedding from the dataset\n",
    "    document_embedding = document['embedding']\n",
    "    # Next, compute the cosine similarity between the query and the document\n",
    "    return np.dot(query_embedding, document_embedding) / (np.linalg.norm(query_embedding) * np.linalg.norm(document_embedding))"
   ]
  },
  {
   "cell_type": "code",
   "execution_count": 43,
   "id": "e2bd77f4",
   "metadata": {},
   "outputs": [],
   "source": [
    "def jaccard_similarity(query, document):\n",
    "    query = query.lower().split(\" \")\n",
    "    document = document['title_and_desc'].lower().split(\" \")\n",
    "    intersection = set(query).intersection(set(document))\n",
    "    union = set(query).union(set(document))\n",
    "    return len(intersection)/len(union)\n",
    "\n",
    "def cosine_similarity(query, document):\n",
    "    query = query.lower().split(\" \")\n",
    "    document = document['title_and_desc'].lower().split(\" \")\n",
    "    intersection = set(query).intersection(set(document))\n",
    "    return len(intersection)/(len(query)*len(document))\n",
    "\n",
    "def return_options(query, corpus, similarity_function=jaccard_similarity):\n",
    "    similarities = []\n",
    "    options_returned = []\n",
    "    for idx, doc in corpus.iterrows():\n",
    "        similarity = similarity_function(user_input, doc)\n",
    "        similarities.append(similarity)\n",
    "    indices = list(range(len(similarities)))\n",
    "    for i in nlargest(5, indices, key = lambda x : similarities[x]): # get top 5 similarities\n",
    "        options_returned.append(\n",
    "            corpus['title_and_desc'][i]\n",
    "        ) # return the document at the index of similarity i\n",
    "    return options_returned"
   ]
  },
  {
   "cell_type": "code",
   "execution_count": 41,
   "id": "50666d51",
   "metadata": {},
   "outputs": [
    {
     "name": "stdout",
     "output_type": "stream",
     "text": [
      "Based on your interest in learning the basics of natural language processing (NLP) and your background in linguistics, I recommend the following courses, ranked from best fit to less suitable options:\n",
      "\n",
      "1. **Select Topics in Python: Natural Language Processing**  \n",
      "   This course is ideal for someone starting out in NLP, especially with a background in linguistics. It’s designed for learners with some coding experience in Python but who are novices to NLP. The hands-on, self-paced format allows you to code without needing to install software, making it accessible and user-friendly. You'll cover foundational topics like text processing, analyzing speech and semantics, and even building a chatbot, helping you apply your linguistic knowledge practically.\n",
      "\n",
      "2. **Natural Language and the Computer Representation of Knowledge**  \n",
      "   This laboratory-oriented course provides a deeper dive into the theory and practice of building computer systems for human language processing. With an emphasis on both cognitive and linguistic foundations, this course would benefit you by bridging your knowledge of linguistics with technical skills. It’s more advanced than the first option, but with your background, you might find it a rewarding challenge.\n",
      "\n",
      "3. **Generative AI with Large Language Models**  \n",
      "   While this course is more intermediate and assumes some familiarity with machine learning and coding in Python, it explores the newer domain of generative AI. Since you’re interested in NLP, understanding LLMs could be beneficial for applications in various industries. However, if you feel prioritizing foundational NLP knowledge is more important at this stage, this course can be pursued later on.\n",
      "\n",
      "4. **Advanced Natural Language Processing**  \n",
      "   This graduate-level course provides a comprehensive introduction to advanced topics in NLP, focusing on machine learning algorithms and applications. Given that this course is at a higher level and likely assumes prior knowledge of NLP, it may be more suitable once you have a solid grasp of the basics. However, your linguistic background might help facilitate your understanding of the course if you choose to pursue it later.\n",
      "\n",
      "5. **Computational Models of Discourse**  \n",
      "   This course focuses on discourse processing within natural language. While it’s an intriguing area of study, it may be too specialized if you're just beginning in NLP. You might find it more beneficial to start with foundational topics before delving into discourse modeling.\n",
      "\n",
      "In summary, I recommend starting with the **Select Topics in Python: Natural Language Processing** course to build a solid foundation in NLP with practical experience. As you progress, you can explore the other courses to deepen your knowledge further.\n"
     ]
    }
   ],
   "source": [
    "# Create the prompt\n",
    "relevant_documents = return_options(user_input, df, similarity_function=embedding_cosine_similarity)\n",
    "list_of_relevant_documents = [f\"{i+1}. {doc}\" for i, doc in enumerate(relevant_documents)]\n",
    "relevant_documents_text = \"\\n\".join(list_of_relevant_documents)\n",
    "prompt = f\"\"\"\n",
    "You are trying to help this user find an online Computer Science course\n",
    "From my database of CS courses, here were some recommendations based on the user input: {relevant_documents_text}\n",
    "The user input is: '{user_input}'\n",
    "Compile a recommendation to the user based on the recommended Computer Science courses and the user input, \n",
    "ranking the courses from the database in order of best fit for the user, and providing a brief explanation for why each course is a fit.\n",
    "\"\"\"\n",
    "#########\n",
    "\n",
    "try:\n",
    "    # Make the request to the OpenAI API\n",
    "    response = client.chat.completions.create(\n",
    "        model=\"gpt-4o-mini\",  \n",
    "        messages=[\n",
    "            {\"role\": \"system\", \"content\": \"You are a bot that makes recommendations for Computer Science courses.\"},\n",
    "            {\"role\": \"user\", \"content\": prompt}\n",
    "        ],\n",
    "        max_tokens=1000,\n",
    "    )\n",
    "    \n",
    "    # Process the response\n",
    "    chatgpt_response = response.choices[0].message.content\n",
    "    print(chatgpt_response)\n",
    "\n",
    "except openai.OpenAIError as e:\n",
    "    print(f\"OpenAI API error occurred: {e}\")\n",
    "except Exception as e:\n",
    "    print(f\"An error occurred: {e}\")\n",
    "#########\n"
   ]
  }
 ],
 "metadata": {
  "kernelspec": {
   "display_name": "Python 3 (ipykernel)",
   "language": "python",
   "name": "python3"
  },
  "language_info": {
   "codemirror_mode": {
    "name": "ipython",
    "version": 3
   },
   "file_extension": ".py",
   "mimetype": "text/x-python",
   "name": "python",
   "nbconvert_exporter": "python",
   "pygments_lexer": "ipython3",
   "version": "3.9.13"
  }
 },
 "nbformat": 4,
 "nbformat_minor": 5
}

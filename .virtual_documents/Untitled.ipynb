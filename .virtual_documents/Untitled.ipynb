corpus_of_documents = [
    "Take a leisurely walk in the park and enjoy the fresh air.",
    "Visit a local museum and discover something new.",
    "Attend a live music concert and feel the rhythm.",
    "Go for a hike and admire the natural scenery.",
    "Have a picnic with friends and share some laughs.",
    "Explore a new cuisine by dining at an ethnic restaurant.",
    "Take a yoga class and stretch your body and mind.",
    "Join a local sports league and enjoy some friendly competition.",
    "Attend a workshop or lecture on a topic you're interested in.",
    "Visit an amusement park and ride the roller coasters."
]


def jaccard_similarity(query, document):
    query = query.lower().split(" ")
    document = document.lower().split(" ")
    intersection = set(query).intersection(set(document))
    union = set(query).union(set(document))
    return len(intersection)/len(union)


def return_response(query, corpus):
    similarities = []
    for doc in corpus:
        similarity = jaccard_similarity(user_input, doc)
        similarities.append(similarity)
    return corpus_of_documents[similarities.index(max(similarities))]


user_prompt = "What is a leisure activity that you like?"



user_input = "I like to hike"



return_response(user_input, corpus_of_documents)






! pip install openai





import openai
import json














user_input = "I like to hike"
relevant_document = return_response(user_input, corpus_of_documents)
full_response = []
# https://github.com/jmorganca/ollama/blob/main/docs/api.md
prompt = """
You are a bot that makes recommendations for academic course plans. You answer in very short sentences and do not include extra information.
This is the recommended course: {relevant_document}
The user input is: {user_input}
Compile a recommendation to the user based on the recommended course and the user input.
"""


# Set up your OpenAI API key

# Define the prompt
prompt = "Your prompt here with {user_input} and {relevant_document}"

# Replace user_input and relevant_document with actual values
user_input = "your_user_input"
relevant_document = "your_relevant_document"
formatted_prompt = prompt.format(user_input=user_input, relevant_document=relevant_document)

# Make the request to the OpenAI API
response = openai.Completion.create(
    engine="text-davinci-003",  # Use the appropriate engine (e.g., "text-davinci-003" or other GPT-3 models)
    prompt=formatted_prompt,
    max_tokens=150,  # Adjust the max tokens as needed
    n=1,
    stop=None,
    temperature=0.7  # Adjust the temperature as needed
)

# Extract the response
full_response = response.choices[0].text.strip()

print(full_response)
